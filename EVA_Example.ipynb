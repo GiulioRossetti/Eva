{
 "cells": [
  {
   "cell_type": "code",
   "execution_count": null,
   "metadata": {},
   "outputs": [],
   "source": [
    "import random\n",
    "\n",
    "import networkx as nx\n",
    "from Eva import eva_best_partition, modularity, purity"
   ]
  },
  {
   "cell_type": "code",
   "execution_count": null,
   "metadata": {},
   "outputs": [],
   "source": [
    "# return the relabeled giant component\n",
    "def preprocess_graph(g):\n",
    "    \n",
    "    comps_list = list(nx.connected_components(g))\n",
    "    max_len = sorted([[len(el),el] for el in comps_list], reverse=True)\n",
    "    comp_0 = nx.subgraph(g, max_len[0][1])\n",
    "    \n",
    "    mapping = dict(zip(comp_0, range(0, len(comp_0))))\n",
    "    relabel_comp_0 = nx.relabel_nodes(comp_0, mapping)\n",
    "    \n",
    "    inv_map = {v: k for k, v in mapping.items()}\n",
    "  \n",
    "    return relabel_comp_0"
   ]
  },
  {
   "cell_type": "code",
   "execution_count": null,
   "metadata": {},
   "outputs": [],
   "source": [
    "g = nx.Graph()\n",
    "\n",
    "comp_1 = [(random.randrange(0, 1000), random.randrange(0, 1000)) for i in range(10000)]\n",
    "comp_2 = [(random.randrange(1001,1100), random.randrange(1001, 1100)) for i in range(100)]\n",
    "\n",
    "g.add_edges_from(comp_1)\n",
    "g.add_edges_from(comp_2)\n",
    "\n",
    "l1 = ['one', 'two', 'three', 'four']\n",
    "l2 = [\"A\", \"B\", \"C\"]\n",
    "\n",
    "for node in g.nodes():\n",
    "    g.add_node(node, labels=random.choice(l1), age=random.choice(l2))"
   ]
  },
  {
   "cell_type": "code",
   "execution_count": null,
   "metadata": {},
   "outputs": [],
   "source": [
    "relab_comp_max = preprocess_graph(g)"
   ]
  },
  {
   "cell_type": "code",
   "execution_count": null,
   "metadata": {},
   "outputs": [],
   "source": [
    "#part, com_labels = eva_best_partition(g, alpha=0.5)"
   ]
  },
  {
   "cell_type": "code",
   "execution_count": null,
   "metadata": {},
   "outputs": [],
   "source": [
    "part, com_labels = eva_best_partition(relab_comp_max, alpha=0.5)"
   ]
  }
 ],
 "metadata": {
  "kernelspec": {
   "display_name": "Python 3",
   "language": "python",
   "name": "python3"
  },
  "language_info": {
   "codemirror_mode": {
    "name": "ipython",
    "version": 3
   },
   "file_extension": ".py",
   "mimetype": "text/x-python",
   "name": "python",
   "nbconvert_exporter": "python",
   "pygments_lexer": "ipython3",
   "version": "3.7.4"
  }
 },
 "nbformat": 4,
 "nbformat_minor": 2
}
